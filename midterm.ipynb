{
  "cells": [
    {
      "cell_type": "markdown",
      "metadata": {
        "id": "view-in-github",
        "colab_type": "text"
      },
      "source": [
        "<a href=\"https://colab.research.google.com/github/iam-arshpreet/cap-comp215/blob/main/midterm.ipynb\" target=\"_parent\"><img src=\"https://colab.research.google.com/assets/colab-badge.svg\" alt=\"Open In Colab\"/></a>"
      ]
    },
    {
      "cell_type": "markdown",
      "source": [
        "# COMP215 Mid-term Exam   Spring 2024\n",
        "\n",
        "#### Score:  _________ / 25\n",
        "\n",
        "##### Date:  Mar. 11, 2024"
      ],
      "metadata": {
        "collapsed": false,
        "id": "UdYBHeNEyNAE"
      }
    },
    {
      "cell_type": "markdown",
      "source": [
        "#### Student Name: Arshpreet singh"
      ],
      "metadata": {
        "collapsed": false,
        "pycharm": {
          "name": "#%% md\n"
        },
        "id": "P7GnI8KDyNAF"
      }
    },
    {
      "cell_type": "markdown",
      "source": [
        "\n",
        "## Instructions:\n",
        " - exam is open-book, open-internet, but must be completed individually (no communication, cooperation, or assistance)\n",
        " - complete the exercises in this notebook\n",
        " - for each exercise, write a piece of code that solves the problem and produces some output, or answer questions in the markdown block, as specified.\n",
        " - as always, if you obtain code from an external source (e.g., stack overflow,  ChatGPT, etc.), please acknowledge with a link.\n",
        "\n",
        "### Topics:\n",
        " - Data structures:  list, dictionary, class, graph, 1D array\n",
        " - Algorithms: graph traversal, matrix operators (numpy), sliding dot-product (correlation)\n",
        " - Techniques: list comprehension, generators, random numbers, plotting\n",
        " - Concepts: Counting, Big-O analysis of algorithm time complexity\n",
        "\n",
        "As usual, we start with module imports..."
      ],
      "metadata": {
        "collapsed": false,
        "id": "_5STu2VwyNAG"
      }
    },
    {
      "cell_type": "code",
      "execution_count": 17,
      "metadata": {
        "collapsed": true,
        "ExecuteTime": {
          "end_time": "2024-03-11T16:59:02.704089Z",
          "start_time": "2024-03-11T16:59:02.669928Z"
        },
        "id": "xU036dkDyNAG"
      },
      "outputs": [],
      "source": [
        "import itertools\n",
        "from dataclasses import dataclass\n",
        "import matplotlib.pyplot as plt\n",
        "import networkx as nx\n",
        "import numpy as np\n",
        "import random\n",
        "from collections import defaultdict"
      ]
    },
    {
      "cell_type": "markdown",
      "source": [
        "## Structured Data\n",
        "The `exoplanets` data below was fetched from [NASA's Exoplanet Archive API](https://exoplanetarchive.ipac.caltech.edu/docs/API_queries.html) (only portion of data is shown here).\n",
        "[https://exoplanetarchive.ipac.caltech.edu/TAP/sync?query=select+pl_name,hostname,disc_year,disc_telescope+from+pscomppars&format=json]\n",
        "\n",
        "It is a list of confirmed exoplanets, where each record provides the planet name `pl_name` and host star `hostname`, along with discovery year and telescope."
      ],
      "metadata": {
        "collapsed": false,
        "id": "Y1VA6YegyNAH"
      }
    },
    {
      "cell_type": "code",
      "execution_count": 18,
      "outputs": [],
      "source": [
        "exoplanets = [\n",
        " {'disc_telescope': '0.95 m Kepler Telescope',\n",
        "  'disc_year': 2021,\n",
        "  'hostname': 'Kepler-1901',\n",
        "  'pl_name': 'Kepler-1901 b'},\n",
        " {'disc_telescope': '0.95 m Kepler Telescope',\n",
        "  'disc_year': 2021,\n",
        "  'hostname': 'Kepler-1882',\n",
        "  'pl_name': 'Kepler-1882 b'},\n",
        " {'disc_telescope': '0.95 m Kepler Telescope',\n",
        "  'disc_year': 2021,\n",
        "  'hostname': 'Kepler-1732',\n",
        "  'pl_name': 'Kepler-1732 b'},\n",
        " {'disc_telescope': '0.95 m Kepler Telescope',\n",
        "  'disc_year': 2014,\n",
        "  'hostname': 'Kepler-152',\n",
        "  'pl_name': 'Kepler-152 b'},\n",
        " {'disc_telescope': '0.95 m Kepler Telescope',\n",
        "  'disc_year': 2016,\n",
        "  'hostname': 'Kepler-1526',\n",
        "  'pl_name': 'Kepler-1526 b'},\n",
        " {'disc_telescope': '0.95 m Kepler Telescope',\n",
        "  'disc_year': 2016,\n",
        "  'hostname': 'Kepler-1475',\n",
        "  'pl_name': 'Kepler-1475 b'},\n",
        " {'disc_telescope': '0.95 m Kepler Telescope',\n",
        "  'disc_year': 2021,\n",
        "  'hostname': 'Kepler-1863',\n",
        "  'pl_name': 'Kepler-1863 b'},\n",
        " {'disc_telescope': '0.95 m Kepler Telescope',\n",
        "  'disc_year': 2016,\n",
        "  'hostname': 'Kepler-954',\n",
        "  'pl_name': 'Kepler-954 b'},\n",
        " {'disc_telescope': '0.95 m Kepler Telescope',\n",
        "  'disc_year': 2016,\n",
        "  'hostname': 'Kepler-533',\n",
        "  'pl_name': 'Kepler-533 b'},\n",
        " {'disc_telescope': '0.95 m Kepler Telescope',\n",
        "  'disc_year': 2016,\n",
        "  'hostname': 'Kepler-1559',\n",
        "  'pl_name': 'Kepler-1559 b'},\n",
        " {'disc_telescope': '0.95 m Kepler Telescope',\n",
        "  'disc_year': 2019,\n",
        "  'hostname': 'V1298 Tau',\n",
        "  'pl_name': 'V1298 Tau d'},\n",
        " {'disc_telescope': '0.95 m Kepler Telescope',\n",
        "  'disc_year': 2016,\n",
        "  'hostname': 'K2-34',\n",
        "  'pl_name': 'K2-34 b'},\n",
        " {'disc_telescope': '0.95 m Kepler Telescope',\n",
        "  'disc_year': 2014,\n",
        "  'hostname': 'Kepler-122',\n",
        "  'pl_name': 'Kepler-122 f'},\n",
        " {'disc_telescope': '0.95 m Kepler Telescope',\n",
        "  'disc_year': 2014,\n",
        "  'hostname': 'Kepler-413',\n",
        "  'pl_name': 'Kepler-413 b'},\n",
        " {'disc_telescope': '0.95 m Kepler Telescope',\n",
        "  'disc_year': 2018,\n",
        "  'hostname': 'K2-154',\n",
        "  'pl_name': 'K2-154 c'},\n",
        " {'disc_telescope': '0.95 m Kepler Telescope',\n",
        "  'disc_year': 2016,\n",
        "  'hostname': 'Kepler-885',\n",
        "  'pl_name': 'Kepler-885 b'},\n",
        " {'disc_telescope': '0.95 m Kepler Telescope',\n",
        "  'disc_year': 2014,\n",
        "  'hostname': 'Kepler-120',\n",
        "  'pl_name': 'Kepler-120 b'},\n",
        " {'disc_telescope': '0.95 m Kepler Telescope',\n",
        "  'disc_year': 2021,\n",
        "  'hostname': 'Kepler-1878',\n",
        "  'pl_name': 'Kepler-1878 b'},\n",
        " {'disc_telescope': '0.95 m Kepler Telescope',\n",
        "  'disc_year': 2021,\n",
        "  'hostname': 'Kepler-324',\n",
        "  'pl_name': 'Kepler-324 e'},\n",
        " {'disc_telescope': '0.95 m Kepler Telescope',\n",
        "  'disc_year': 2016,\n",
        "  'hostname': 'KIC 5437945',\n",
        "  'pl_name': 'Kepler-460 c'},\n",
        " {'disc_telescope': '0.95 m Kepler Telescope',\n",
        "  'disc_year': 2016,\n",
        "  'hostname': 'Kepler-473',\n",
        "  'pl_name': 'Kepler-473 b'},\n",
        " {'disc_telescope': '0.95 m Kepler Telescope',\n",
        "  'disc_year': 2012,\n",
        "  'hostname': 'Kepler-85',\n",
        "  'pl_name': 'Kepler-85 c'},\n",
        " {'disc_telescope': '0.95 m Kepler Telescope',\n",
        "  'disc_year': 2012,\n",
        "  'hostname': 'Kepler-32',\n",
        "  'pl_name': 'Kepler-32 e'},\n",
        " {'disc_telescope': '3.6 m ESO Telescope',\n",
        "  'disc_year': 2012,\n",
        "  'hostname': 'GJ 3470',\n",
        "  'pl_name': 'GJ 3470 b'},\n",
        " {'disc_telescope': '0.95 m Kepler Telescope',\n",
        "  'disc_year': 2013,\n",
        "  'hostname': 'Kepler-66',\n",
        "  'pl_name': 'Kepler-66 b'},\n",
        " {'disc_telescope': '0.95 m Kepler Telescope',\n",
        "  'disc_year': 2016,\n",
        "  'hostname': 'Kepler-971',\n",
        "  'pl_name': 'Kepler-971 b'},\n",
        " {'disc_telescope': '0.95 m Kepler Telescope',\n",
        "  'disc_year': 2016,\n",
        "  'hostname': 'Kepler-1432',\n",
        "  'pl_name': 'Kepler-1432 b'},\n",
        " {'disc_telescope': '0.95 m Kepler Telescope',\n",
        "  'disc_year': 2016,\n",
        "  'hostname': 'Kepler-953',\n",
        "  'pl_name': 'Kepler-953 b'},\n",
        " {'disc_telescope': '3.6 m ESO Telescope',\n",
        "  'disc_year': 2008,\n",
        "  'hostname': 'HD 20868',\n",
        "  'pl_name': 'HD 20868 b'},\n",
        " {'disc_telescope': '0.95 m Kepler Telescope',\n",
        "  'disc_year': 2016,\n",
        "  'hostname': 'Kepler-1365',\n",
        "  'pl_name': 'Kepler-1365 c'},\n",
        " {'disc_telescope': '0.95 m Kepler Telescope',\n",
        "  'disc_year': 2016,\n",
        "  'hostname': 'Kepler-903',\n",
        "  'pl_name': 'Kepler-903 c'},\n",
        " {'disc_telescope': '0.95 m Kepler Telescope',\n",
        "  'disc_year': 2016,\n",
        "  'hostname': 'K2-347',\n",
        "  'pl_name': 'K2-347 b'},\n",
        " {'disc_telescope': '0.95 m Kepler Telescope',\n",
        "  'disc_year': 2015,\n",
        "  'hostname': 'Kepler-439',\n",
        "  'pl_name': 'Kepler-439 b'},\n",
        " {'disc_telescope': '0.95 m Kepler Telescope',\n",
        "  'disc_year': 2016,\n",
        "  'hostname': 'Kepler-810',\n",
        "  'pl_name': 'Kepler-810 b'},\n",
        " {'disc_telescope': '0.95 m Kepler Telescope',\n",
        "  'disc_year': 2018,\n",
        "  'hostname': 'K2-334',\n",
        "  'pl_name': 'K2-334 b'},\n",
        " {'disc_telescope': '0.1 m TESS Telescope',\n",
        "  'disc_year': 2022,\n",
        "  'hostname': 'TOI-2184',\n",
        "  'pl_name': 'TOI-2184 b'},\n",
        " {'disc_telescope': '0.95 m Kepler Telescope',\n",
        "  'disc_year': 2016,\n",
        "  'hostname': 'Kepler-600',\n",
        "  'pl_name': 'Kepler-600 b'},\n",
        " {'disc_telescope': '0.95 m Kepler Telescope',\n",
        "  'disc_year': 2016,\n",
        "  'hostname': 'Kepler-1161',\n",
        "  'pl_name': 'Kepler-1161 b'},\n",
        " {'disc_telescope': '0.95 m Kepler Telescope',\n",
        "  'disc_year': 2016,\n",
        "  'hostname': 'Kepler-543',\n",
        "  'pl_name': 'Kepler-543 b'},\n",
        " {'disc_telescope': '0.95 m Kepler Telescope',\n",
        "  'disc_year': 2016,\n",
        "  'hostname': 'Kepler-1494',\n",
        "  'pl_name': 'Kepler-1494 b'},\n",
        " {'disc_telescope': '0.95 m Kepler Telescope',\n",
        "  'disc_year': 2016,\n",
        "  'hostname': 'Kepler-1221',\n",
        "  'pl_name': 'Kepler-1221 b'},\n",
        " {'disc_telescope': '0.95 m Kepler Telescope',\n",
        "  'disc_year': 2016,\n",
        "  'hostname': 'Kepler-856',\n",
        "  'pl_name': 'Kepler-856 b'},\n",
        " {'disc_telescope': '0.95 m Kepler Telescope',\n",
        "  'disc_year': 2016,\n",
        "  'hostname': 'Kepler-1340',\n",
        "  'pl_name': 'Kepler-1340 b'},\n",
        " {'disc_telescope': '0.95 m Kepler Telescope',\n",
        "  'disc_year': 2018,\n",
        "  'hostname': 'K2-266',\n",
        "  'pl_name': 'K2-266 e'},\n",
        " {'disc_telescope': '0.95 m Kepler Telescope',\n",
        "  'disc_year': 2016,\n",
        "  'hostname': 'Kepler-1473',\n",
        "  'pl_name': 'Kepler-1473 b'},\n",
        " {'disc_telescope': '3.6 m ESO Telescope',\n",
        "  'disc_year': 2009,\n",
        "  'hostname': 'HD 125595',\n",
        "  'pl_name': 'HD 125595 b'},\n",
        " {'disc_telescope': '0.95 m Kepler Telescope',\n",
        "  'disc_year': 2014,\n",
        "  'hostname': 'Kepler-173',\n",
        "  'pl_name': 'Kepler-173 b'},\n",
        " {'disc_telescope': '0.1 m TESS Telescope',\n",
        "  'disc_year': 2022,\n",
        "  'hostname': 'TOI-1759',\n",
        "  'pl_name': 'TOI-1759 b'},\n",
        " {'disc_telescope': '0.95 m Kepler Telescope',\n",
        "  'disc_year': 2021,\n",
        "  'hostname': 'Kepler-1853',\n",
        "  'pl_name': 'Kepler-1853 b'},\n",
        " {'disc_telescope': '0.95 m Kepler Telescope',\n",
        "  'disc_year': 2016,\n",
        "  'hostname': 'Kepler-1083',\n",
        "  'pl_name': 'Kepler-1083 b'},\n",
        " {'disc_telescope': '0.95 m Kepler Telescope',\n",
        "  'disc_year': 2022,\n",
        "  'hostname': 'K2-384',\n",
        "  'pl_name': 'K2-384 b'},\n",
        " {'disc_telescope': '0.95 m Kepler Telescope',\n",
        "  'disc_year': 2016,\n",
        "  'hostname': 'K2-46',\n",
        "  'pl_name': 'K2-46 b'},\n",
        " {'disc_telescope': '0.1 m TESS Telescope',\n",
        "  'disc_year': 2019,\n",
        "  'hostname': 'TOI-125',\n",
        "  'pl_name': 'TOI-125 b'},\n",
        " {'disc_telescope': '0.95 m Kepler Telescope',\n",
        "  'disc_year': 2014,\n",
        "  'hostname': 'Kepler-262',\n",
        "  'pl_name': 'Kepler-262 b'},\n",
        " {'disc_telescope': '0.95 m Kepler Telescope',\n",
        "  'disc_year': 2016,\n",
        "  'hostname': 'Kepler-1493',\n",
        "  'pl_name': 'Kepler-1493 b'},\n",
        " {'disc_telescope': '0.95 m Kepler Telescope',\n",
        "  'disc_year': 2022,\n",
        "  'hostname': 'K2-383',\n",
        "  'pl_name': 'K2-383 b'},\n",
        " {'disc_telescope': '0.95 m Kepler Telescope',\n",
        "  'disc_year': 2016,\n",
        "  'hostname': 'Kepler-1156',\n",
        "  'pl_name': 'Kepler-1156 b'},\n",
        " {'disc_telescope': '0.95 m Kepler Telescope',\n",
        "  'disc_year': 2016,\n",
        "  'hostname': 'Kepler-1593',\n",
        "  'pl_name': 'Kepler-1593 b'},\n",
        " {'disc_telescope': '0.95 m Kepler Telescope',\n",
        "  'disc_year': 2016,\n",
        "  'hostname': 'Kepler-769',\n",
        "  'pl_name': 'Kepler-769 c'},\n",
        " {'disc_telescope': '0.95 m Kepler Telescope',\n",
        "  'disc_year': 2018,\n",
        "  'hostname': 'K2-180',\n",
        "  'pl_name': 'K2-180 b'},\n",
        " {'disc_telescope': '0.95 m Kepler Telescope',\n",
        "  'disc_year': 2016,\n",
        "  'hostname': 'Kepler-1001',\n",
        "  'pl_name': 'Kepler-1001 b'},\n",
        " {'disc_telescope': '1.6 m wide-field telescope',\n",
        "  'disc_year': 2019,\n",
        "  'hostname': 'KMT-2017-BLG-1146L',\n",
        "  'pl_name': 'KMT-2017-BLG-1146L b'},\n",
        " {'disc_telescope': '0.95 m Kepler Telescope',\n",
        "  'disc_year': 2012,\n",
        "  'hostname': 'Kepler-59',\n",
        "  'pl_name': 'Kepler-59 b'},\n",
        " {'disc_telescope': '0.95 m Kepler Telescope',\n",
        "  'disc_year': 2016,\n",
        "  'hostname': 'Kepler-1339',\n",
        "  'pl_name': 'Kepler-1339 b'},\n",
        " {'disc_telescope': '0.95 m Kepler Telescope',\n",
        "  'disc_year': 2014,\n",
        "  'hostname': 'Kepler-116',\n",
        "  'pl_name': 'Kepler-116 b'},\n",
        " {'disc_telescope': '0.95 m Kepler Telescope',\n",
        "  'disc_year': 2021,\n",
        "  'hostname': 'Kepler-1735',\n",
        "  'pl_name': 'Kepler-1735 b'},\n",
        " {'disc_telescope': '0.95 m Kepler Telescope',\n",
        "  'disc_year': 2021,\n",
        "  'hostname': 'Kepler-1919',\n",
        "  'pl_name': 'Kepler-1919 b'},\n",
        " {'disc_telescope': '0.95 m Kepler Telescope',\n",
        "  'disc_year': 2018,\n",
        "  'hostname': 'K2-199',\n",
        "  'pl_name': 'K2-199 b'},\n",
        " {'disc_telescope': '0.95 m Kepler Telescope',\n",
        "  'disc_year': 2012,\n",
        "  'hostname': 'Kepler-30',\n",
        "  'pl_name': 'Kepler-30 b'},\n",
        " {'disc_telescope': '0.95 m Kepler Telescope',\n",
        "  'disc_year': 2016,\n",
        "  'hostname': 'Kepler-1058',\n",
        "  'pl_name': 'Kepler-1058 b'},\n",
        " {'disc_telescope': '0.95 m Kepler Telescope',\n",
        "  'disc_year': 2014,\n",
        "  'hostname': 'Kepler-342',\n",
        "  'pl_name': 'Kepler-342 c'},\n",
        " {'disc_telescope': '0.95 m Kepler Telescope',\n",
        "  'disc_year': 2014,\n",
        "  'hostname': 'Kepler-178',\n",
        "  'pl_name': 'Kepler-178 d'},\n",
        " {'disc_telescope': '0.95 m Kepler Telescope',\n",
        "  'disc_year': 2014,\n",
        "  'hostname': 'Kepler-300',\n",
        "  'pl_name': 'Kepler-300 c'},\n",
        " {'disc_telescope': '0.95 m Kepler Telescope',\n",
        "  'disc_year': 2012,\n",
        "  'hostname': 'Kepler-49',\n",
        "  'pl_name': 'Kepler-49 c'},\n",
        " {'disc_telescope': '0.95 m Kepler Telescope',\n",
        "  'disc_year': 2014,\n",
        "  'hostname': 'Kepler-285',\n",
        "  'pl_name': 'Kepler-285 c'},\n",
        " {'disc_telescope': '0.95 m Kepler Telescope',\n",
        "  'disc_year': 2016,\n",
        "  'hostname': 'Kepler-1388',\n",
        "  'pl_name': 'Kepler-1388 e'},\n",
        " {'disc_telescope': '3.6 m ESO Telescope',\n",
        "  'disc_year': 2010,\n",
        "  'hostname': 'HD 113538',\n",
        "  'pl_name': 'HD 113538 c'},\n",
        " {'disc_telescope': '0.95 m Kepler Telescope',\n",
        "  'disc_year': 2016,\n",
        "  'hostname': 'Kepler-921',\n",
        "  'pl_name': 'Kepler-921 b'},\n",
        " {'disc_telescope': '0.95 m Kepler Telescope',\n",
        "  'disc_year': 2014,\n",
        "  'hostname': 'Kepler-84',\n",
        "  'pl_name': 'Kepler-84 d'},\n",
        " {'disc_telescope': '0.95 m Kepler Telescope',\n",
        "  'disc_year': 2014,\n",
        "  'hostname': 'Kepler-151',\n",
        "  'pl_name': 'Kepler-151 c'},\n",
        " {'disc_telescope': '0.95 m Kepler Telescope',\n",
        "  'disc_year': 2016,\n",
        "  'hostname': 'Kepler-484',\n",
        "  'pl_name': 'Kepler-484 b'},\n",
        " {'disc_telescope': '0.1 m TESS Telescope',\n",
        "  'disc_year': 2022,\n",
        "  'hostname': 'TOI-4329',\n",
        "  'pl_name': 'TOI-4329 b'},\n",
        " {'disc_telescope': '0.95 m Kepler Telescope',\n",
        "  'disc_year': 2016,\n",
        "  'hostname': 'Kepler-1224',\n",
        "  'pl_name': 'Kepler-1224 b'},\n",
        " {'disc_telescope': '0.95 m Kepler Telescope',\n",
        "  'disc_year': 2016,\n",
        "  'hostname': 'Kepler-1630',\n",
        "  'pl_name': 'Kepler-1630 b'},\n",
        " {'disc_telescope': '3.6 m ESO Telescope',\n",
        "  'disc_year': 2021,\n",
        "  'hostname': 'HD 93385',\n",
        "  'pl_name': 'HD 93385 b'},\n",
        " {'disc_telescope': '0.95 m Kepler Telescope',\n",
        "  'disc_year': 2015,\n",
        "  'hostname': 'KIC 5951458',\n",
        "  'pl_name': 'KIC 5951458 b'},\n",
        " {'disc_telescope': '0.95 m Kepler Telescope',\n",
        "  'disc_year': 2016,\n",
        "  'hostname': 'Kepler-688',\n",
        "  'pl_name': 'Kepler-688 b'},\n",
        " {'disc_telescope': '0.95 m Kepler Telescope',\n",
        "  'disc_year': 2016,\n",
        "  'hostname': 'Kepler-1379',\n",
        "  'pl_name': 'Kepler-1379 b'},\n",
        " {'disc_telescope': '0.95 m Kepler Telescope',\n",
        "  'disc_year': 2013,\n",
        "  'hostname': 'KOI-351',\n",
        "  'pl_name': 'KOI-351 d'},\n",
        " {'disc_telescope': '0.95 m Kepler Telescope',\n",
        "  'disc_year': 2016,\n",
        "  'hostname': 'Kepler-1543',\n",
        "  'pl_name': 'Kepler-1543 b'},\n",
        " {'disc_telescope': '0.95 m Kepler Telescope',\n",
        "  'disc_year': 2021,\n",
        "  'hostname': 'Kepler-1837',\n",
        "  'pl_name': 'Kepler-1837 b'},\n",
        " {'disc_telescope': '0.95 m Kepler Telescope',\n",
        "  'disc_year': 2014,\n",
        "  'hostname': 'Kepler-326',\n",
        "  'pl_name': 'Kepler-326 d'},\n",
        " {'disc_telescope': '0.95 m Kepler Telescope',\n",
        "  'disc_year': 2016,\n",
        "  'hostname': 'K2-26',\n",
        "  'pl_name': 'K2-26 b'},\n",
        " {'disc_telescope': '0.95 m Kepler Telescope',\n",
        "  'disc_year': 2016,\n",
        "  'hostname': 'Kepler-1128',\n",
        "  'pl_name': 'Kepler-1128 b'},\n",
        " {'disc_telescope': '0.95 m Kepler Telescope',\n",
        "  'disc_year': 2014,\n",
        "  'hostname': 'Kepler-334',\n",
        "  'pl_name': 'Kepler-334 b'},\n",
        " {'disc_telescope': '0.95 m Kepler Telescope',\n",
        "  'disc_year': 2016,\n",
        "  'hostname': 'Kepler-1448',\n",
        "  'pl_name': 'Kepler-1448 b'},\n",
        " {'disc_telescope': '0.95 m Kepler Telescope',\n",
        "  'disc_year': 2016,\n",
        "  'hostname': 'Kepler-1350',\n",
        "  'pl_name': 'Kepler-1350 b'},\n",
        " {'disc_telescope': '0.95 m Kepler Telescope',\n",
        "  'disc_year': 2021,\n",
        "  'hostname': 'Kepler-1770',\n",
        "  'pl_name': 'Kepler-1770 b'},\n",
        " {'disc_telescope': '0.95 m Kepler Telescope',\n",
        "  'disc_year': 2014,\n",
        "  'hostname': 'Kepler-401',\n",
        "  'pl_name': 'Kepler-401 c'},\n",
        " {'disc_telescope': '0.95 m Kepler Telescope',\n",
        "  'disc_year': 2021,\n",
        "  'hostname': 'Kepler-511',\n",
        "  'pl_name': 'Kepler-511 c'}\n",
        "]"
      ],
      "metadata": {
        "pycharm": {
          "name": "#%%\n"
        },
        "ExecuteTime": {
          "end_time": "2024-03-11T16:59:02.733590Z",
          "start_time": "2024-03-11T16:59:02.719490Z"
        },
        "id": "N95X9vfayNAH"
      }
    },
    {
      "cell_type": "markdown",
      "source": [
        "### Q.1  (2 points)\n",
        "Use a **list comprehension** to define a list of exoplanet names (`pl_name`) that were discovered (`disc_year`) in `2018`\n",
        "*Hint*: there are 5 such planets in the `exoplanets` list above."
      ],
      "metadata": {
        "collapsed": false,
        "id": "F7SpNNQKyNAI"
      }
    },
    {
      "cell_type": "code",
      "execution_count": 47,
      "outputs": [
        {
          "output_type": "execute_result",
          "data": {
            "text/plain": [
              "['K2-154 c', 'K2-334 b', 'K2-266 e', 'K2-180 b', 'K2-199 b']"
            ]
          },
          "metadata": {},
          "execution_count": 47
        }
      ],
      "source": [
        "# Solution for Q.1 here\n",
        "\n",
        "pl_name = [i['pl_name'] for i in exoplanets if i['disc_year'] == 2018 ]\n"
      ],
      "metadata": {
        "pycharm": {
          "name": "#%%\n"
        },
        "ExecuteTime": {
          "end_time": "2024-03-11T16:59:02.734627Z",
          "start_time": "2024-03-11T16:59:02.723232Z"
        },
        "colab": {
          "base_uri": "https://localhost:8080/"
        },
        "id": "Hev9Xau8yNAJ",
        "outputId": "8d0286d9-2914-4cb8-c831-25b651b5cf6e"
      }
    },
    {
      "cell_type": "markdown",
      "source": [
        "### Q.2  (3 points)\n",
        "Develop a `dict` with a count of the number of exoplanets discovered in each year.\n",
        "There are *many* different ways to approach this - for full points solution should be concise and easy to understand.\n",
        "\n",
        "*Tip*: the built-in [defaultdict(int)](https://docs.python.org/3/library/collections.html#collections.defaultdict) could help here."
      ],
      "metadata": {
        "collapsed": false,
        "id": "k35pZ-LhyNAJ"
      }
    },
    {
      "cell_type": "code",
      "source": [
        "# Solution for Q.2 here\n",
        "def pl_no_finder(disc_year):\n",
        "  pl_name = [i['pl_name'] for i in exoplanets if i['disc_year'] == disc_year]\n",
        "  return pl_name\n",
        "\n",
        "disc_years = {i['disc_year'] for i in exoplanets}\n",
        "number_of_planets_each_year = [(i,len(pl_no_finder(i))) for i in disc_years]\n",
        "\n",
        "pl_no_dict= {}\n",
        "for i, j in number_of_planets_each_year:\n",
        "  pl_no_dict[i]=j\n",
        "pl_no_dict"
      ],
      "metadata": {
        "colab": {
          "base_uri": "https://localhost:8080/"
        },
        "id": "Pi6q_kZf2rTy",
        "outputId": "af33ed60-b862-460a-a78a-7628bcdc0212"
      },
      "execution_count": 72,
      "outputs": [
        {
          "output_type": "execute_result",
          "data": {
            "text/plain": [
              "{2016: 45,\n",
              " 2018: 5,\n",
              " 2019: 3,\n",
              " 2021: 13,\n",
              " 2022: 5,\n",
              " 2008: 1,\n",
              " 2009: 1,\n",
              " 2010: 1,\n",
              " 2012: 6,\n",
              " 2013: 2,\n",
              " 2014: 16,\n",
              " 2015: 2}"
            ]
          },
          "metadata": {},
          "execution_count": 72
        }
      ]
    },
    {
      "cell_type": "markdown",
      "source": [
        "### Q.3  (2 points)\n",
        "Plot your discoveries-by-year dictionary as a [matplotlib.pyplot.bar](https://matplotlib.org/stable/api/_as_gen/matplotlib.pyplot.bar.html) chart.\n",
        "(no need to label axes or add a chart title)\n",
        "*Tip*:  remember your dictionary has iterables `.keys()` and `.values()`"
      ],
      "metadata": {
        "collapsed": false,
        "pycharm": {
          "name": "#%% md\n"
        },
        "id": "6Kpt51DdyNAJ"
      }
    },
    {
      "cell_type": "code",
      "execution_count": 73,
      "outputs": [
        {
          "output_type": "execute_result",
          "data": {
            "text/plain": [
              "<BarContainer object of 12 artists>"
            ]
          },
          "metadata": {},
          "execution_count": 73
        },
        {
          "output_type": "display_data",
          "data": {
            "text/plain": [
              "<Figure size 640x480 with 1 Axes>"
            ],
            "image/png": "[encoded data removed]"
          },
          "metadata": {}
        }
      ],
      "source": [
        "# Solution for Q.3 here\n",
        "plt.bar(pl_no_dict.keys(),pl_no_dict.values())\n",
        "\n"
      ],
      "metadata": {
        "pycharm": {
          "name": "#%%\n"
        },
        "ExecuteTime": {
          "end_time": "2024-03-11T16:59:02.744683Z",
          "start_time": "2024-03-11T16:59:02.733209Z"
        },
        "colab": {
          "base_uri": "https://localhost:8080/",
          "height": 447
        },
        "id": "wZ1a8xzNyNAK",
        "outputId": "701754b4-5ca7-4a66-e551-06cb086a8383"
      }
    },
    {
      "cell_type": "markdown",
      "source": [
        "## Classes\n",
        "Develop a small class to represent a single exoplanet object.\n",
        "You may use `@dataclass` or a regular class, as you wish.\n",
        "\n",
        "Your class should define at least 2 methods:\n",
        "```\n",
        "  def __str__(self) :\n",
        "      \"\"\" return a nicely formatted string with the exoplanet's name and its discovery year \"\"\"\n",
        "\n",
        "  def has_same_host(self, other) :\n",
        "      \"\"\" return True iff this exoplanet and the other share the same host star (`hostname`) \"\"\"\n",
        "```\n",
        "\n",
        "### Q.4   (5 points)\n",
        "Write your class below and include some code to test it and both its methods."
      ],
      "metadata": {
        "collapsed": false,
        "id": "biSvdqaiyNAK"
      }
    },
    {
      "cell_type": "code",
      "execution_count": 74,
      "outputs": [],
      "source": [
        "# Solution for Q. 4 here\n",
        "class exoplanet:\n",
        "  def __init__(self, disc_telescope, disc_year, hostname, pl_name):\n",
        "    self.disc_telescope = disc_telescope\n",
        "    self.disc_year = disc_year\n",
        "    self.hostname = hostname\n",
        "    self.pl_name = pl_name\n",
        "\n",
        "  def __str__(self):\n",
        "      \"\"\" return a nicely formatted string with the exoplanet's name and its discovery year \"\"\"\n",
        "\n",
        "      return f'{self.pl_name} was discovered in {self.disc_year}'\n",
        "\n",
        "  def has_same_host(self, other) :\n",
        "      \"\"\" return True iff this exoplanet and the other share the same host star (`hostname`) \"\"\"\n",
        "      return self.hostname == other.hostname\n"
      ],
      "metadata": {
        "pycharm": {
          "name": "#%%\n"
        },
        "ExecuteTime": {
          "end_time": "2024-03-11T16:59:02.746389Z",
          "start_time": "2024-03-11T16:59:02.739051Z"
        },
        "id": "z_vRuolryNAK"
      }
    },
    {
      "cell_type": "markdown",
      "source": [
        "## 1D Cellular Automata\n",
        "Wolfram's experiments with Elementary 1D CA's explored the \"universe\" in which the fate of a cell depended on its direct 3-cell neighbourhood.   We could easily extend this experiment to examine the universe of 1D CA's influenced by a 5-cell neighbourhood.  Answer the following questions about 5-cell neighbourhood 1D CA's."
      ],
      "metadata": {
        "collapsed": false,
        "id": "Xkra7rQWyNAK"
      }
    },
    {
      "cell_type": "code",
      "execution_count": 23,
      "outputs": [
        {
          "output_type": "execute_result",
          "data": {
            "text/plain": [
              "[array([0, 0, 0, 1, 0]),\n",
              " array([0, 0, 1, 0, 0]),\n",
              " array([0, 1, 0, 0, 1]),\n",
              " array([1, 0, 0, 1, 0]),\n",
              " array([0, 0, 1, 0, 1]),\n",
              " array([0, 1, 0, 1, 0]),\n",
              " array([1, 0, 1, 0, 1]),\n",
              " array([0, 1, 0, 1, 0]),\n",
              " array([1, 0, 1, 0, 0]),\n",
              " array([0, 1, 0, 0, 1]),\n",
              " array([1, 0, 0, 1, 0]),\n",
              " array([0, 0, 1, 0, 0]),\n",
              " array([0, 1, 0, 0, 0])]"
            ]
          },
          "metadata": {},
          "execution_count": 23
        }
      ],
      "source": [
        "# Example:  here are all the 5-cell neighbourhoods for a sample 1D CA\n",
        "ca = np.array( [0,0,0,1,0,0,1,0,1,0,1,0,0,1,0,0,0] )\n",
        "neighbourhoods = [ca[i-2:i+3] for i in range(2, len(ca)-2)]\n",
        "neighbourhoods"
      ],
      "metadata": {
        "pycharm": {
          "name": "#%%\n"
        },
        "ExecuteTime": {
          "end_time": "2024-03-11T16:59:02.763721Z",
          "start_time": "2024-03-11T16:59:02.743269Z"
        },
        "colab": {
          "base_uri": "https://localhost:8080/"
        },
        "id": "o88n-f0MyNAL",
        "outputId": "a0de0d5a-3e02-47dd-89aa-dd3bedfe6cbd"
      }
    },
    {
      "cell_type": "markdown",
      "source": [
        "### Q.5  (3 points)\n",
        "Write a Python expression in the code block below to answer each of these questions:\n",
        "\n",
        "a. What is number of unique possible states for a 5-cell neighbourhood?\n",
        "b. How many possible 5-cell CA \"rules\" are there?\n",
        "c. Wolfram numbered the Elementary CA's 0 - 255;   how could we similarly number the rules for our 5-cell CA model?"
      ],
      "metadata": {
        "collapsed": false,
        "id": "J59qDGyZyNAL"
      }
    },
    {
      "cell_type": "code",
      "execution_count": null,
      "outputs": [],
      "source": [
        "# Solutions for Q.5 here\n",
        "# a)\n",
        "possible_states = 2**5\n",
        "\n",
        "# b)\n",
        "possible_rules = 2**(2**5)\n",
        "\n",
        "# c) we can use the same thinking using binary but the numbers will be too large\n"
      ],
      "metadata": {
        "ExecuteTime": {
          "end_time": "2024-03-11T16:59:02.764013Z",
          "start_time": "2024-03-11T16:59:02.748723Z"
        },
        "id": "Tm10NUAnyNAM"
      }
    },
    {
      "cell_type": "markdown",
      "source": [
        "### Q.6  (4 points)\n",
        "The core of the efficient algorithm we developed for Wolfram's Elementary CA's is provided below.\n",
        "\n",
        "Make the *minimum* modifications to implement a 5-cell CA.\n",
        "Update the unit tests to reflect this change (*tip*: use the function to get the expected output!)"
      ],
      "metadata": {
        "collapsed": false,
        "id": "F64bErhGyNAM"
      }
    },
    {
      "cell_type": "code",
      "execution_count": null,
      "outputs": [],
      "source": [
        "# Solution for Q.6 here\n",
        "POWERS_OF_2 = np.array((16, 8, 4, 2, 1))\n",
        "\n",
        "def rule_indexes(state):\n",
        "    \"\"\" Return vector of rule indexes - one index for each neighbourhood in the CA state vector. \"\"\"\n",
        "    # \"pad\" ends of state array with one extra 0 cell to mitigate edge effects\n",
        "    return np.correlate(np.pad(state, 1, mode='constant'), POWERS_OF_2, mode='valid')\n",
        "\n",
        "assert all( rule_indexes(np.array([1,0,0,0,1,0,0,0])) == [2, 4, 0, 1, 2, 4, 0, 0] )\n",
        "\n",
        "\n",
        "def transition(state, rule):\n",
        "    \"\"\" Return the vector resulting from a transition of given CA state under the given 8-bit rule \"\"\"\n",
        "    indexes = rule_indexes(state)\n",
        "    return np.array(rule[indexes])\n",
        "\n",
        "rule_110 = (0,1,1,0,1,1,1,0)[::-1]\n",
        "ca_state = (0,0,1,0,1,0,0,0,1,1,0)\n",
        "assert all( transition(np.array(ca_state), np.array(rule_110)) == (0,1,1,1,1,0,0,1,1,1,0))"
      ],
      "metadata": {
        "pycharm": {
          "name": "#%%\n"
        },
        "ExecuteTime": {
          "end_time": "2024-03-11T16:59:02.797709Z",
          "start_time": "2024-03-11T16:59:02.768885Z"
        },
        "id": "Zh6lsua_yNAM"
      }
    },
    {
      "cell_type": "markdown",
      "source": [
        "## Graph Traversal\n",
        "The following graph represents the houses in a small town, with edges between houses that are \"comparable\".  \n",
        "\n",
        "Two houses are **\"comparable\"** when they have similar amenities, like square footage, light exposure, yard size, etc.  \n",
        "Each house is labelled with its current assessed value (price) in $100K\n",
        "\n",
        "Below, you will answer some questions about this graph.\n",
        "The graph generation algorithm given here is for a random graph. Your algorithms should work for any such graph."
      ],
      "metadata": {
        "collapsed": false,
        "id": "VCNPi0LOyNAM"
      }
    },
    {
      "cell_type": "code",
      "execution_count": 26,
      "outputs": [],
      "source": [
        "def generate_graph(n, p=0.3):\n",
        "    \"\"\" Return a \"complete\" undirected Graph with n nodes labeled 0 .. n-1 \"\"\"\n",
        "    graph = nx.Graph()\n",
        "    prices = [random.randrange(400, 999) for _ in range(n)]\n",
        "    graph.add_nodes_from(prices)\n",
        "    edges = [pair for pair in itertools.combinations(prices, 2) if random.random() < p]\n",
        "    graph.add_edges_from(edges)\n",
        "    return graph"
      ],
      "metadata": {
        "ExecuteTime": {
          "end_time": "2024-03-11T16:59:02.798579Z",
          "start_time": "2024-03-11T16:59:02.778954Z"
        },
        "id": "tiCSjF1QyNAN"
      }
    },
    {
      "cell_type": "code",
      "execution_count": 27,
      "outputs": [
        {
          "output_type": "display_data",
          "data": {
            "text/plain": [
              "<Figure size 640x480 with 1 Axes>"
            ],
            "image/png": "[encoded data removed]"
          },
          "metadata": {}
        }
      ],
      "source": [
        "random.seed(35)\n",
        "G = generate_graph(15)\n",
        "nx.draw_circular(G, node_size=1000, with_labels=True)\n",
        "plt.gca().set(title=f'A neighbourhood of homes, with edges between houses with similar amenities.')\n",
        "plt.show()"
      ],
      "metadata": {
        "ExecuteTime": {
          "end_time": "2024-03-11T16:59:02.880837Z",
          "start_time": "2024-03-11T16:59:02.788883Z"
        },
        "colab": {
          "base_uri": "https://localhost:8080/",
          "height": 539
        },
        "id": "PdpJZxgUyNAN",
        "outputId": "6e19f588-775a-47ee-adbb-7206cb11e280"
      }
    },
    {
      "cell_type": "markdown",
      "source": [
        "### Q.7  (2 points)\n",
        "The set of \"comparables\" for a given house are simply its neighbours in the graph: `G.neighbours(house)`.\n",
        "\n",
        "**Note**: For simplicity, a \"house\" and its \"price\" are the same thing, represented by a node in the graph.\n",
        "\n",
        "Write a function, `price_ratio` that takes a `graph` and a single `house price` (node) as input, and returns the ratio between the house price and the average price of its \"comparables\".  \n",
        "If a house has no comparables, the price_ratio should be 1."
      ],
      "metadata": {
        "collapsed": false,
        "id": "ah5Q38flyNAN"
      }
    },
    {
      "cell_type": "code",
      "execution_count": null,
      "outputs": [],
      "source": [
        "# Solution for Q.7 here\n",
        "def price_ratio(graph, house_price):\n",
        "  price = [i[1]for i in graph.edges(house_price)]\n",
        "  comparables_avg = (sum(price))/len(graph.edges(house_price))\n",
        "  return house_price/comparables_avg\n",
        "\n",
        "price_ratio(G,463)\n"
      ],
      "metadata": {
        "ExecuteTime": {
          "end_time": "2024-03-11T16:59:02.891910Z",
          "start_time": "2024-03-11T16:59:02.882578Z"
        },
        "id": "Yws-9Jh5yNAO"
      }
    },
    {
      "cell_type": "markdown",
      "source": [
        "### Q.8  (4 points)\n",
        "\n",
        "Note that a `price_ratio` > 1 indicates the house is over-priced, while a `price_ratio` < 1 indicates the house is under-priced, with respect to its comparables.\n",
        "The best deal is the house with the lowest `price_ratio`.\n",
        "\n",
        "Write a function, `best_deal` that takes a `graph` and returns the node (price) of the house that is the \"best deal\".\n",
        "*Tip*: you can obtain all the house prices from the graph:  `G.nodes`"
      ],
      "metadata": {
        "collapsed": false,
        "pycharm": {
          "name": "#%% md\n"
        },
        "id": "WNH-IokOyNAO"
      }
    },
    {
      "cell_type": "code",
      "execution_count": 113,
      "outputs": [],
      "source": [
        "# Solution for Q.8 here\n",
        "def best_deal(graph):\n",
        "  allprice = [price_ratio(graph, i) for i in graph.nodes() if graph.neighbours(i)>0]\n",
        "  all_prices = graph.nodes()\n",
        "  lowest_deal = min(allprice)\n",
        "  # return lowest_deal\n"
      ],
      "metadata": {
        "ExecuteTime": {
          "end_time": "2024-03-11T16:59:02.897473Z",
          "start_time": "2024-03-11T16:59:02.891137Z"
        },
        "id": "CzPlTlcWyNAO"
      }
    }
  ],
  "metadata": {
    "kernelspec": {
      "display_name": "Python 3",
      "language": "python",
      "name": "python3"
    },
    "language_info": {
      "codemirror_mode": {
        "name": "ipython",
        "version": 2
      },
      "file_extension": ".py",
      "mimetype": "text/x-python",
      "name": "python",
      "nbconvert_exporter": "python",
      "pygments_lexer": "ipython2",
      "version": "2.7.6"
    },
    "colab": {
      "provenance": [],
      "include_colab_link": true
    }
  },
  "nbformat": 4,
  "nbformat_minor": 0
}